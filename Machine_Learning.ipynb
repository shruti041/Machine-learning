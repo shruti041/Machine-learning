{
 "cells": [
  {
   "cell_type": "markdown",
   "id": "a168df81-345e-40f3-92ac-150d9310c674",
   "metadata": {},
   "source": [
    "## Heart Disease Project\n",
    "\n",
    "This project is about classifying whether or not a patient has heart disease."
   ]
  },
  {
   "cell_type": "code",
   "execution_count": null,
   "id": "7b7f5162-a04b-42d5-b850-2876262be030",
   "metadata": {},
   "outputs": [],
   "source": []
  }
 ],
 "metadata": {
  "kernelspec": {
   "display_name": "Python 3 (ipykernel)",
   "language": "python",
   "name": "python3"
  },
  "language_info": {
   "codemirror_mode": {
    "name": "ipython",
    "version": 3
   },
   "file_extension": ".py",
   "mimetype": "text/x-python",
   "name": "python",
   "nbconvert_exporter": "python",
   "pygments_lexer": "ipython3",
   "version": "3.12.7"
  }
 },
 "nbformat": 4,
 "nbformat_minor": 5
}
